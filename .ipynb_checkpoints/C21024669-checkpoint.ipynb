{
 "cells": [
  {
   "cell_type": "code",
   "execution_count": 1,
   "metadata": {},
   "outputs": [],
   "source": [
    "# You may add additional imports here\n",
    "import random\n",
    "import matplotlib.pyplot as plt"
   ]
  },
  {
   "cell_type": "markdown",
   "metadata": {},
   "source": [
    "Question 1\n",
    "==========\n",
    "\n",
    "All parts of Question 1 use the _point-a-rally (PARS) scoring_ system.\n",
    "\n",
    "**Question 1a:** Complete the following function so that it implements the PARS algorithm from the coursework specification.\n",
    "\n",
    "**[Functionality: 7 marks]**"
   ]
  },
  {
   "cell_type": "code",
   "execution_count": 2,
   "metadata": {},
   "outputs": [],
   "source": [
    "def game(ra, rb):\n",
    "    a_score = 0\n",
    "    b_score = 0\n",
    "    \n",
    "    a_prob = ra / (ra + rb)\n",
    "    b_prob = rb / (ra + rb)\n",
    "    \n",
    "    while (a_score < 11 and b_score < 11) or abs(a_score - b_score) < 2:\n",
    "        choice = random.choices(['a', 'b'], weights=[a_prob, b_prob], k=1)\n",
    "        if choice == ['a']:\n",
    "            a_score += 1\n",
    "        else:\n",
    "            b_score += 1\n",
    "    \n",
    "    return (a_score, b_score)\n",
    "    \n"
   ]
  },
  {
   "cell_type": "markdown",
   "metadata": {},
   "source": [
    "**Testing:** If the random seed is set to 57, then calling the function with arguments `70` and `30` should return `(11,5)`."
   ]
  },
  {
   "cell_type": "code",
   "execution_count": 3,
   "metadata": {},
   "outputs": [
    {
     "name": "stdout",
     "output_type": "stream",
     "text": [
      "(11, 5)\n"
     ]
    }
   ],
   "source": [
    "random.seed(57)\n",
    "print(game(70, 30))"
   ]
  },
  {
   "cell_type": "markdown",
   "metadata": {},
   "source": [
    "**Question 1b:** Complete the following function `win_probability_game(ra, rb, simulations)` to simulate `simulations` games in order to estimate the probability that a player with ability `ra` will win a game against a player of ability `rb`.\n",
    "\n",
    "**[Functionality: 4 marks]**"
   ]
  },
  {
   "cell_type": "code",
   "execution_count": 4,
   "metadata": {},
   "outputs": [],
   "source": [
    "def win_probability_game(ra, rb, simulations):\n",
    "    a_win = 0\n",
    "    b_win = 0\n",
    "    \n",
    "    for i in range(simulations):\n",
    "        simulation = game(ra, rb)\n",
    "        if simulation[0] > simulation[1]:\n",
    "            a_win += 1\n",
    "        else:\n",
    "            b_win += 1\n",
    "    \n",
    "    return a_win / (a_win + b_win)\n"
   ]
  },
  {
   "cell_type": "markdown",
   "metadata": {},
   "source": [
    "**Testing:** Given sufficient simulations, calling the function with abilities `70` and `30` should give the answer `0.98` when printed to 2 decimal places."
   ]
  },
  {
   "cell_type": "code",
   "execution_count": 25,
   "metadata": {},
   "outputs": [
    {
     "name": "stdout",
     "output_type": "stream",
     "text": [
      "0.98\n"
     ]
    }
   ],
   "source": [
    "# Print win_probability_game(70, 30, print(round(winProbability(70, 30), 2))) to 2 decimal places for a suitable value of n\n",
    "print(round(win_probability_game(70, 30, 1000), 2))"
   ]
  },
  {
   "cell_type": "markdown",
   "metadata": {},
   "source": [
    "**Question 1c:** Assume players abilities are given in a csv file with the format:\n",
    "```\n",
    "player a ability, player b ability,\n",
    "60, 20,\n",
    "100, 55,\n",
    "50, 40,\n",
    "20, 70,\n",
    "95, 85,\n",
    "```\n",
    "Complete the following function to read in a specified csv file of this format and return a `list` of `tuple`s containing each pair of abilities.\n",
    "\n",
    "**[Functionality: 4 marks]**"
   ]
  },
  {
   "cell_type": "code",
   "execution_count": 6,
   "metadata": {},
   "outputs": [],
   "source": [
    "from os.path import exists\n",
    "\n",
    "def read_abilities(file_name): # HINT: what should the argument be?\n",
    "    abilities = []\n",
    "    first_line = True\n",
    "    \n",
    "    if exists(file_name):\n",
    "        f = open(file_name, \"r\")\n",
    "        for line in f:\n",
    "            if not first_line:\n",
    "                abilities.append(tuple(map(int, line.replace(',', '').strip().split())))\n",
    "            else:\n",
    "                first_line = False\n",
    "        f.close()\n",
    "                         \n",
    "    return abilities"
   ]
  },
  {
   "cell_type": "markdown",
   "metadata": {},
   "source": [
    "**Testing:** Calling the function to read the file `test.csv` from Learning Central should return `[(60, 20), (100, 55), (50, 40), (20, 70), (95, 85)]`"
   ]
  },
  {
   "cell_type": "code",
   "execution_count": 7,
   "metadata": {},
   "outputs": [
    {
     "name": "stdout",
     "output_type": "stream",
     "text": [
      "[(60, 20), (100, 55), (50, 40), (20, 70), (95, 85)]\n"
     ]
    }
   ],
   "source": [
    "# Print the result of calling the function for the file `test.csv`\n",
    "print(read_abilities('test.csv'))"
   ]
  },
  {
   "cell_type": "markdown",
   "metadata": {},
   "source": [
    "**Question 1d:** Write a function that takes a `list` of the format returned by your answer to 1c as an argument, and uses `matplotlib` to produce a plot (with labelled axes) showing the probability that player a beats player b (in a game) against `ra / r_b` for each pair.\n",
    "\n",
    "**[Functionality: 5 marks]**"
   ]
  },
  {
   "cell_type": "code",
   "execution_count": 21,
   "metadata": {},
   "outputs": [],
   "source": [
    "def plot_win_probabilities(abilities): # HINT: what should the argument be?\n",
    "    x_axis = []\n",
    "    y_axis = []\n",
    "    \n",
    "    for ability in abilities:\n",
    "        x_axis.append(ability[0] / ability[1])\n",
    "        y_axis.append(win_probability_game(ability[0], ability[1], 10000))\n",
    "    \n",
    "    plt.plot(x_axis, y_axis, 'bo')\n",
    "    plt.ylabel('Probability a wins')\n",
    "    plt.xlabel('ra/rb')\n",
    "    plt.show()"
   ]
  },
  {
   "cell_type": "markdown",
   "metadata": {},
   "source": [
    "**Testing:** The following figure (or similar) should result from the data `[(60, 20), (100, 55), (50, 40), (20, 70), (95, 85)]`\n",
    "\n",
    "<img src=\"./win_probabilities.png\" alt=\"Win probabilities\" width=\"500\">\n"
   ]
  },
  {
   "cell_type": "code",
   "execution_count": 22,
   "metadata": {},
   "outputs": [
    {
     "data": {
      "image/png": "[encoded data removed]",
      "text/plain": [
       "<Figure size 432x288 with 1 Axes>"
      ]
     },
     "metadata": {
      "needs_background": "light"
     },
     "output_type": "display_data"
    }
   ],
   "source": [
    "# Call the function to plot the figure here\n",
    "plot_win_probabilities(read_abilities('test.csv'))"
   ]
  },
  {
   "cell_type": "markdown",
   "metadata": {},
   "source": [
    "**Question 1e:** Complete the following function `win_probability_match(ra, rb, simulations, m)` to simulate `simulations` matches which are won by the first player to win `m` games, and returns an estimate of the probability that a player with ability `ra` will win such a match against a player of ability `rb`.\n",
    "\n",
    "Provide code that works out the smallest value of `m` such that `win_probability_match(60, 40, simulations, m)` is at least `0.9`. \n",
    "\n",
    "_HINT: make sure you use an appropriate value for `simulations`._\n",
    "\n",
    "**[Functionality: 5 marks]**"
   ]
  },
  {
   "cell_type": "code",
   "execution_count": 39,
   "metadata": {},
   "outputs": [
    {
     "name": "stdout",
     "output_type": "stream",
     "text": [
      "2\n",
      "0.921\n"
     ]
    }
   ],
   "source": [
    "def win_probability_match(ra, rb, simulations, m):\n",
    "    a_win_match = 0\n",
    "    b_win_match = 0\n",
    "    a_win_game_prob = win_probability_game(ra, rb, simulations)\n",
    "    b_win_game_prob = win_probability_game(rb, ra, simulations)\n",
    "    for i in range(simulations):\n",
    "        a_win_game = 0\n",
    "        b_win_game = 0\n",
    "        while a_win_game < m and b_win_game < m:\n",
    "            choice = random.choices(['a', 'b'], weights=[a_win_game_prob, b_win_game_prob], k=1)\n",
    "            if choice == ['a']:\n",
    "                a_win_game += 1\n",
    "            else:\n",
    "                b_win_game += 1\n",
    "        if a_win_game > b_win_game:\n",
    "            a_win_match += 1\n",
    "        else: \n",
    "            b_win_match += 1\n",
    "    return a_win_match / (a_win_match + b_win_match)\n",
    "            \n",
    "# Calculate lowest value of m here\n",
    "probability = 0\n",
    "m = 0\n",
    "while probability < 0.9:\n",
    "    m += 1\n",
    "    probability = win_probability_match(60, 40, 1000, m)\n",
    "\n",
    "print(m)"
   ]
  },
  {
   "cell_type": "markdown",
   "metadata": {},
   "source": [
    "Question 2\n",
    "==========\n",
    "\n",
    "Complete the remaining template of a scientific report that uses the results of simulation (with suitable input data) to investigate whether English or PARS is the ``better`` scoring method for squash matches. \n",
    "\n",
    "You should clearly state any assumptions you make, and may add any number of code cells. Guidance for completing the markdown/text cells is given in the coursework specification. The word count of the remaining markdown/text cells must be at most 750.\n",
    "\n",
    "Your investigation should consider the relative ability of the two players (i.e. `ra/rb`) as the _independent variable_ and include appropriate figures that show how your choice of relevant _dependent variable_ varies. Your results **must** cover at least 50 different values of `ra/rb`.\n",
    "\n",
    "Some starting points you may consider:\n",
    "- How _fair_ is the scoring method - does the better player usually win?\n",
    "- Shorter matches are usually preferable (e.g. for television) - if you assume each rally in a match takes equal time, how long do matches typically last?\n",
    "- What effect does the relative ability of the two players have?\n",
    "\n",
    "**[Report: 7 marks; Achievement: 8 marks]**"
   ]
  },
  {
   "cell_type": "markdown",
   "metadata": {},
   "source": [
    "## Problem"
   ]
  },
  {
   "cell_type": "markdown",
   "metadata": {},
   "source": [
    "Briefly describe the problem you are investigating. How are you measuring “better” for the scoring schemes? What do you expect to see?\n",
    "Report marking criteria – is the problem stated clearly and concisely?"
   ]
  },
  {
   "cell_type": "markdown",
   "metadata": {},
   "source": [
    "I am investigating which is the better scoring system for Squash out of English and Point-a-rally scoring (PARS). I will be measuring this by looking for which one leads to the player with the greater ability winning more often and also which one usually leads to shorter matches."
   ]
  },
  {
   "cell_type": "markdown",
   "metadata": {},
   "source": [
    "## Method"
   ]
  },
  {
   "cell_type": "markdown",
   "metadata": {},
   "source": [
    "Summarize the method you are using to investigate the problem. What simulations will you run?\n",
    "What range of parameters will you use? What will you measure and report?\n",
    "Report marking criteria – is the method stated with sufficient detail to allow someone else to replicate\n",
    "the results?"
   ]
  },
  {
   "cell_type": "markdown",
   "metadata": {},
   "source": [
    "## Assumptions"
   ]
  },
  {
   "cell_type": "markdown",
   "metadata": {},
   "source": [
    "Are there any assumptions that either you or the coursework specification have made that\n",
    "may affect your confidence in the results or their applicability?\n",
    "Report marking criteria – are the key assumptions listed?"
   ]
  },
  {
   "cell_type": "markdown",
   "metadata": {},
   "source": [
    "## Results"
   ]
  },
  {
   "cell_type": "markdown",
   "metadata": {},
   "source": [
    "Show the results of your simulations – including one figure that allows easy comparison. Explain\n",
    "what the results show.\n",
    "Report marking criteria – are the results clear and well-presented? Are appropriate figures used? Are\n",
    "figures labelled and titled?"
   ]
  },
  {
   "cell_type": "markdown",
   "metadata": {},
   "source": [
    "## Conclusions"
   ]
  },
  {
   "cell_type": "markdown",
   "metadata": {},
   "source": [
    "Briefly summarize your progress towards solving the problem, highlight any limitations and\n",
    "potential future extensions.\n",
    "Report marking criteria – are the conclusions stated clearly and concisely, and supported by the rest\n",
    "of the report?"
   ]
  }
 ],
 "metadata": {
  "interpreter": {
   "hash": "183b6f3dd52b9ae2bd385afe1588cc6cf56d78005d888e2b09b3c195f16f84ec"
  },
  "kernelspec": {
   "display_name": "Python 3 (ipykernel)",
   "language": "python",
   "name": "python3"
  },
  "language_info": {
   "codemirror_mode": {
    "name": "ipython",
    "version": 3
   },
   "file_extension": ".py",
   "mimetype": "text/x-python",
   "name": "python",
   "nbconvert_exporter": "python",
   "pygments_lexer": "ipython3",
   "version": "3.8.8"
  }
 },
 "nbformat": 4,
 "nbformat_minor": 4
}
