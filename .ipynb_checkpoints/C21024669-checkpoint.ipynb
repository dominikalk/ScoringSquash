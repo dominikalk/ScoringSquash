{
 "cells": [
  {
   "cell_type": "code",
   "execution_count": 1,
   "metadata": {},
   "outputs": [],
   "source": [
    "# You may add additional imports here\n",
    "import random\n",
    "import matplotlib.pyplot as plt"
   ]
  },
  {
   "cell_type": "markdown",
   "metadata": {},
   "source": [
    "Question 1\n",
    "==========\n",
    "\n",
    "All parts of Question 1 use the _point-a-rally (PARS) scoring_ system.\n",
    "\n",
    "**Question 1a:** Complete the following function so that it implements the PARS algorithm from the coursework specification.\n",
    "\n",
    "**[Functionality: 7 marks]**"
   ]
  },
  {
   "cell_type": "code",
   "execution_count": 37,
   "metadata": {},
   "outputs": [],
   "source": [
    "# Given parameters, this returns if the game hasnt finished yet\n",
    "def not_end_of_game(a_score, b_score, english=False, long_game=False):\n",
    "    if not english:\n",
    "        return (a_score < 11 and b_score < 11) or abs(a_score - b_score) < 2\n",
    "    else:\n",
    "        if not long_game:\n",
    "            return (a_score < 9 and b_score < 9)\n",
    "        else:\n",
    "            if ((a_score == 9 or b_score) == 9 and abs(a_score - b_score) > 1) or a_score == 10 or b_score == 10:\n",
    "                return False\n",
    "            return True\n",
    "\n",
    "# Carries out a simulation of a game and returns the result\n",
    "def game(ra, rb, english=False):\n",
    "    a_score = 0\n",
    "    b_score = 0\n",
    "    \n",
    "    a_prob = ra / (ra + rb)\n",
    "    b_prob = rb / (ra + rb)\n",
    "    \n",
    "    # Variables used in the english scoring method\n",
    "    server_a = True\n",
    "    long_game = False\n",
    "    already_eight = True\n",
    "    \n",
    "    while not_end_of_game(a_score, b_score, english, long_game):\n",
    "        choice = random.choices(['a', 'b'], weights=[a_prob, b_prob], k=1)\n",
    "        if choice == ['a']:\n",
    "            if not english or server_a:\n",
    "                a_score += 1\n",
    "                # logic for the english scoring method\n",
    "                if a_score == 8 and not already_eight:\n",
    "                    already_eight = True\n",
    "                    if ra < rb:\n",
    "                        long_game = False\n",
    "                    else:\n",
    "                        long_game = True\n",
    "            else:\n",
    "                server_a = True\n",
    "        else:\n",
    "            if not english or not server_a:\n",
    "                b_score += 1\n",
    "                # logic for the english scoring method\n",
    "                if b_score == 8 and not already_eight:\n",
    "                    already_eight = True\n",
    "                    if rb < ra:\n",
    "                        long_game = False\n",
    "                    else:\n",
    "                        long_game = True\n",
    "            else:\n",
    "                server_a = False\n",
    "    \n",
    "    return (a_score, b_score)\n",
    "    \n"
   ]
  },
  {
   "cell_type": "markdown",
   "metadata": {},
   "source": [
    "**Testing:** If the random seed is set to 57, then calling the function with arguments `70` and `30` should return `(11,5)`."
   ]
  },
  {
   "cell_type": "code",
   "execution_count": 38,
   "metadata": {},
   "outputs": [
    {
     "name": "stdout",
     "output_type": "stream",
     "text": [
      "(11, 5)\n"
     ]
    }
   ],
   "source": [
    "random.seed(57)\n",
    "print(game(70, 30))"
   ]
  },
  {
   "cell_type": "markdown",
   "metadata": {},
   "source": [
    "**Question 1b:** Complete the following function `win_probability_game(ra, rb, simulations)` to simulate `simulations` games in order to estimate the probability that a player with ability `ra` will win a game against a player of ability `rb`.\n",
    "\n",
    "**[Functionality: 4 marks]**"
   ]
  },
  {
   "cell_type": "code",
   "execution_count": 55,
   "metadata": {},
   "outputs": [],
   "source": [
    "def win_probability_game(ra, rb, simulations, english=False):\n",
    "    a_win = 0\n",
    "    \n",
    "    for i in range(simulations):\n",
    "        simulation = game(ra, rb, english)\n",
    "        if simulation[0] > simulation[1]:\n",
    "            a_win += 1\n",
    "    \n",
    "    return a_win / simulations\n"
   ]
  },
  {
   "cell_type": "markdown",
   "metadata": {},
   "source": [
    "**Testing:** Given sufficient simulations, calling the function with abilities `70` and `30` should give the answer `0.98` when printed to 2 decimal places."
   ]
  },
  {
   "cell_type": "code",
   "execution_count": 65,
   "metadata": {},
   "outputs": [
    {
     "name": "stdout",
     "output_type": "stream",
     "text": [
      "0.98\n"
     ]
    }
   ],
   "source": [
    "# Print win_probability_game(70, 30, print(round(winProbability(70, 30), 2))) to 2 decimal places for a suitable value of n\n",
    "print(round(win_probability_game(70, 30, 10000), 2))"
   ]
  },
  {
   "cell_type": "markdown",
   "metadata": {},
   "source": [
    "**Question 1c:** Assume players abilities are given in a csv file with the format:\n",
    "```\n",
    "player a ability, player b ability,\n",
    "60, 20,\n",
    "100, 55,\n",
    "50, 40,\n",
    "20, 70,\n",
    "95, 85,\n",
    "```\n",
    "Complete the following function to read in a specified csv file of this format and return a `list` of `tuple`s containing each pair of abilities.\n",
    "\n",
    "**[Functionality: 4 marks]**"
   ]
  },
  {
   "cell_type": "code",
   "execution_count": 6,
   "metadata": {},
   "outputs": [],
   "source": [
    "from os.path import exists\n",
    "\n",
    "def read_abilities(file_name): # HINT: what should the argument be?\n",
    "    abilities = []\n",
    "    first_line = True\n",
    "    \n",
    "    if exists(file_name):\n",
    "        f = open(file_name, \"r\")\n",
    "        for line in f:\n",
    "            if not first_line:\n",
    "                abilities.append(tuple(map(int, line.replace(',', ' ').strip().split())))\n",
    "            else:\n",
    "                first_line = False\n",
    "        f.close()\n",
    "                         \n",
    "    return abilities"
   ]
  },
  {
   "cell_type": "markdown",
   "metadata": {},
   "source": [
    "**Testing:** Calling the function to read the file `test.csv` from Learning Central should return `[(60, 20), (100, 55), (50, 40), (20, 70), (95, 85)]`"
   ]
  },
  {
   "cell_type": "code",
   "execution_count": 7,
   "metadata": {},
   "outputs": [
    {
     "name": "stdout",
     "output_type": "stream",
     "text": [
      "[(60, 20), (100, 55), (50, 40), (20, 70), (95, 85)]\n"
     ]
    }
   ],
   "source": [
    "# Print the result of calling the function for the file `test.csv`\n",
    "print(read_abilities('test.csv'))"
   ]
  },
  {
   "cell_type": "markdown",
   "metadata": {},
   "source": [
    "**Question 1d:** Write a function that takes a `list` of the format returned by your answer to 1c as an argument, and uses `matplotlib` to produce a plot (with labelled axes) showing the probability that player a beats player b (in a game) against `ra / r_b` for each pair.\n",
    "\n",
    "**[Functionality: 5 marks]**"
   ]
  },
  {
   "cell_type": "code",
   "execution_count": 8,
   "metadata": {},
   "outputs": [],
   "source": [
    "def plot_win_probabilities(abilities): # HINT: what should the argument be?\n",
    "    x_axis = []\n",
    "    y_axis = []\n",
    "    \n",
    "    for ability in abilities:\n",
    "        x_axis.append(ability[0] / ability[1])\n",
    "        y_axis.append(win_probability_game(ability[0], ability[1], 10000))\n",
    "    \n",
    "    plt.plot(x_axis, y_axis, 'bo')\n",
    "    plt.ylabel('Probability a wins')\n",
    "    plt.xlabel('ra/rb')\n",
    "    plt.show()"
   ]
  },
  {
   "cell_type": "markdown",
   "metadata": {},
   "source": [
    "**Testing:** The following figure (or similar) should result from the data `[(60, 20), (100, 55), (50, 40), (20, 70), (95, 85)]`\n",
    "\n",
    "<img src=\"./win_probabilities.png\" alt=\"Win probabilities\" width=\"500\">\n"
   ]
  },
  {
   "cell_type": "code",
   "execution_count": 9,
   "metadata": {},
   "outputs": [
    {
     "data": {
      "image/png": "[encoded data removed]",
      "text/plain": [
       "<Figure size 432x288 with 1 Axes>"
      ]
     },
     "metadata": {
      "needs_background": "light"
     },
     "output_type": "display_data"
    }
   ],
   "source": [
    "# Call the function to plot the figure here\n",
    "plot_win_probabilities(read_abilities('test.csv'))"
   ]
  },
  {
   "cell_type": "markdown",
   "metadata": {},
   "source": [
    "**Question 1e:** Complete the following function `win_probability_match(ra, rb, simulations, m)` to simulate `simulations` matches which are won by the first player to win `m` games, and returns an estimate of the probability that a player with ability `ra` will win such a match against a player of ability `rb`.\n",
    "\n",
    "Provide code that works out the smallest value of `m` such that `win_probability_match(60, 40, simulations, m)` is at least `0.9`. \n",
    "\n",
    "_HINT: make sure you use an appropriate value for `simulations`._\n",
    "\n",
    "**[Functionality: 5 marks]**"
   ]
  },
  {
   "cell_type": "code",
   "execution_count": 70,
   "metadata": {},
   "outputs": [
    {
     "name": "stdout",
     "output_type": "stream",
     "text": [
      "2\n"
     ]
    }
   ],
   "source": [
    "def win_probability_match(ra, rb, simulations, m, english=False):\n",
    "    a_win_match = 0\n",
    "    b_win_match = 0\n",
    "    a_win_game_prob = win_probability_game(ra, rb, simulations, english)\n",
    "    b_win_game_prob = win_probability_game(rb, ra, simulations, english)\n",
    "    for i in range(simulations):\n",
    "        a_win_game = 0\n",
    "        b_win_game = 0\n",
    "        while a_win_game < m and b_win_game < m:\n",
    "            choice = random.choices(['a', 'b'], weights=[a_win_game_prob, b_win_game_prob], k=1)\n",
    "            if choice == ['a']:\n",
    "                a_win_game += 1\n",
    "            else:\n",
    "                b_win_game += 1\n",
    "        if a_win_game > b_win_game:\n",
    "            a_win_match += 1\n",
    "        else: \n",
    "            b_win_match += 1\n",
    "    return a_win_match / (a_win_match + b_win_match)\n",
    "            \n",
    "# Calculate lowest value of m here\n",
    "probability = 0\n",
    "m = 0\n",
    "while probability < 0.9:\n",
    "    m += 1\n",
    "    probability = win_probability_match(60, 40, 1000, m)\n",
    "\n",
    "print(m)"
   ]
  },
  {
   "cell_type": "markdown",
   "metadata": {},
   "source": [
    "Question 2\n",
    "==========\n",
    "\n",
    "Complete the remaining template of a scientific report that uses the results of simulation (with suitable input data) to investigate whether English or PARS is the ``better`` scoring method for squash matches. \n",
    "\n",
    "You should clearly state any assumptions you make, and may add any number of code cells. Guidance for completing the markdown/text cells is given in the coursework specification. The word count of the remaining markdown/text cells must be at most 750.\n",
    "\n",
    "Your investigation should consider the relative ability of the two players (i.e. `ra/rb`) as the _independent variable_ and include appropriate figures that show how your choice of relevant _dependent variable_ varies. Your results **must** cover at least 50 different values of `ra/rb`.\n",
    "\n",
    "Some starting points you may consider:\n",
    "- How _fair_ is the scoring method - does the better player usually win?\n",
    "- Shorter matches are usually preferable (e.g. for television) - if you assume each rally in a match takes equal time, how long do matches typically last?\n",
    "- What effect does the relative ability of the two players have?\n",
    "\n",
    "**[Report: 7 marks; Achievement: 8 marks]**"
   ]
  },
  {
   "cell_type": "markdown",
   "metadata": {},
   "source": [
    "## Problem"
   ]
  },
  {
   "cell_type": "markdown",
   "metadata": {},
   "source": [
    "I am investigating which is the better scoring system for Squash out of English and Point-a-rally scoring (PARS). I will be measuring this by looking for which scoring method leads to the player with the greater ability winning more often. \n",
    "- The independant variable will be the relative ability of player a against player b (ra/rb)\n",
    "- The dependant variable will be the probability that player a wins.\n",
    "\n",
    "I expect to see the English scoring system to be more fair though the objective of this program is to prove this."
   ]
  },
  {
   "cell_type": "markdown",
   "metadata": {},
   "source": [
    "## Method"
   ]
  },
  {
   "cell_type": "markdown",
   "metadata": {},
   "source": [
    "- I will read player abilities from the from the csv file that contains a minimum of 50 and put them into a list of tuples.\n",
    "    - This will give me a minimum of 50 matches worth of points to plot onto a graph\n",
    "    - These are the parameters I will be using, with players' abilities varying between 10 - 90\n",
    "- For each method of scoring for each match:\n",
    "    - I will work out `player a`'s relative ability against `player b` by calculating `ra / rb` (independant variable)\n",
    "    - I will estimate the probability that `player a` wins using a suitable number of simulations (dependant variable)\n",
    "        - Doing this by simulating a number of games and working out what proportion was won by `player a`\n",
    "- I will then plot these values on the same graph for both scoring methods and evaluate which one is more fair as the better player wins more often."
   ]
  },
  {
   "cell_type": "markdown",
   "metadata": {},
   "source": [
    "## Assumptions"
   ]
  },
  {
   "cell_type": "markdown",
   "metadata": {},
   "source": [
    "- The assumption that the probability of a player winning a point never varies and that it is always related to their and their oponents ability. In reality the probability of a specific point being won will vary depending on other factors like stress, tiredness and endurance. \n",
    "- The assumption that the result of previous points being won or lost, and the same with games, has no effect on the current point of games prospects. In reality the pressure of an important point or game can effect its outcome. \n",
    "- The assumption that ability does not vary between the two scoring methods. In reality one scoring method might favour a stronger server than the other."
   ]
  },
  {
   "cell_type": "markdown",
   "metadata": {},
   "source": [
    "## Results"
   ]
  },
  {
   "cell_type": "markdown",
   "metadata": {},
   "source": [
    "I will set the variable `player_abilities` to the results read from `player_abilities.csv`:"
   ]
  },
  {
   "cell_type": "code",
   "execution_count": 32,
   "metadata": {},
   "outputs": [],
   "source": [
    "player_abilities = read_abilities('player_abilities.csv')"
   ]
  },
  {
   "cell_type": "markdown",
   "metadata": {},
   "source": [
    "I will create a function that takes in three arguments: relative abilities (x-axis), PARS probabilities (y-axis) and english probabilities (y-axis), and display a graph plotting them against eachother."
   ]
  },
  {
   "cell_type": "code",
   "execution_count": 33,
   "metadata": {},
   "outputs": [],
   "source": [
    "def plot_results(rel_abilities, pars_prob, english_prob):\n",
    "    # Order the lists according to rel_abilities so that the lines will connect properly on the graph \n",
    "    pars_prob = [x for _, x in sorted(zip(rel_abilities, pars_prob))]\n",
    "    english_prob = [x for _, x in sorted(zip(rel_abilities, english_prob))]\n",
    "    rel_abilities = sorted(rel_abilities)\n",
    "    \n",
    "    # Plotting the graph\n",
    "    plt.figure(figsize=(14, 8))\n",
    "    plt.title('PARS and English scoring')\n",
    "    plt.ylabel('Probability a wins')\n",
    "    plt.xlabel('ra/rb')\n",
    "    # Limit the graph to the x values of 0 - 2 as the other values do not give us any new information\n",
    "    plt.xlim(0, 2)\n",
    "    plt.plot(rel_abilities, pars_prob)\n",
    "    plt.plot(rel_abilities, english_prob)\n",
    "    plt.show()"
   ]
  },
  {
   "cell_type": "markdown",
   "metadata": {},
   "source": [
    "Now I will loop through all the matches and work out the relative ability of `player a` in the game, and the probability that he will win in the PARS and English games."
   ]
  },
  {
   "cell_type": "code",
   "execution_count": 34,
   "metadata": {},
   "outputs": [],
   "source": [
    "# Initialise the variables\n",
    "relative_abilities = []\n",
    "pars_probabilities = []\n",
    "english_probabilities = []\n",
    "simulations = 2000\n",
    "matches = 3\n",
    "\n",
    "# Loop through every match in the csv file and set the values in the variables to the results calculated\n",
    "for player_ability in player_abilities:\n",
    "    a, b = player_ability\n",
    "    relative_abilities.append(a / b)\n",
    "    pars_probabilities.append(win_probability_match(a, b, simulations, matches))    \n",
    "    english_probabilities.append(win_probability_match(a, b, simulations, matches, True))  "
   ]
  },
  {
   "cell_type": "markdown",
   "metadata": {},
   "source": [
    "Now I will finally plot the result of the calculations. (This may take a second)"
   ]
  },
  {
   "cell_type": "code",
   "execution_count": 36,
   "metadata": {},
   "outputs": [
    {
     "data": {
      "image/png": "[encoded data removed]",
      "text/plain": [
       "<Figure size 1008x576 with 1 Axes>"
      ]
     },
     "metadata": {
      "needs_background": "light"
     },
     "output_type": "display_data"
    }
   ],
   "source": [
    "# Plot the results calculated\n",
    "plot_results(relative_abilities, pars_probabilities, english_probabilities)"
   ]
  },
  {
   "cell_type": "markdown",
   "metadata": {},
   "source": [
    "This is what the graph looks like if you set the simulation number to 10000 (This takes quite a while so I am just showing you an image).\n",
    "\n",
    "<img src=\"./win_probability_graph.png\" alt=\"Win probability graph\" width=\"600\">"
   ]
  },
  {
   "cell_type": "markdown",
   "metadata": {},
   "source": [
    "Closer to the ends of the scale (at 0 and 2 on the x-axis) the two graphs do not differ much as the result is virtually certain that one player will win the match. Near x = 1 (the position where the two players have similar abilities) the two graphs are also very similar which makes sense too. Where the graphs differ is between these two points, where the ability are different enough for the scoring system to have an effect on the probability but not different enough for one person to be virtually guaranteed to win. We can see that below x = 1 the English method has a lower probability of winning and above x = 1 it has a higher one. This means that the English method is a more fair scoring method as the person with the higher ability is more likely to win."
   ]
  },
  {
   "cell_type": "markdown",
   "metadata": {},
   "source": [
    "## Conclusions"
   ]
  },
  {
   "cell_type": "markdown",
   "metadata": {},
   "source": [
    "In conclusion, I believe that the results of the report show enough evidence to make the statement that the Enlish method of scoring is more fair than Point-a-rally scoring. This meaning that with the English scoring method, the player with the higher ability had a higher probability of winning the match than in PARS scoring.\n",
    "\n",
    "Potential limitations of the problem could be traced back to the assumptions made earlier. The fact that in the world of sport you cannot just model someones ability as one number. One person might be good at one thing but not in another and depending on the oponent that play, even if on average they are on the same level, this could affect the outcome. To make the result more portraying of the real world it would be worth adding more values to a player such as their endurance (longer games may benefit or harm them) or how they handle pressure (PARS might be better due to the 2 points clear rule if they cant handle it)."
   ]
  },
  {
   "cell_type": "code",
   "execution_count": null,
   "metadata": {},
   "outputs": [],
   "source": []
  }
 ],
 "metadata": {
  "interpreter": {
   "hash": "183b6f3dd52b9ae2bd385afe1588cc6cf56d78005d888e2b09b3c195f16f84ec"
  },
  "kernelspec": {
   "display_name": "Python 3 (ipykernel)",
   "language": "python",
   "name": "python3"
  },
  "language_info": {
   "codemirror_mode": {
    "name": "ipython",
    "version": 3
   },
   "file_extension": ".py",
   "mimetype": "text/x-python",
   "name": "python",
   "nbconvert_exporter": "python",
   "pygments_lexer": "ipython3",
   "version": "3.8.8"
  }
 },
 "nbformat": 4,
 "nbformat_minor": 4
}
